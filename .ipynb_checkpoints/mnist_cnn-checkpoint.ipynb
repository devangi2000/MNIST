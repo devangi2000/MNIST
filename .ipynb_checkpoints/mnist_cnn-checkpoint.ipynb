{
 "cells": [
  {
   "cell_type": "code",
   "execution_count": 1,
   "metadata": {},
   "outputs": [
    {
     "name": "stderr",
     "output_type": "stream",
     "text": [
      "Using TensorFlow backend.\n"
     ]
    }
   ],
   "source": [
    "from keras.layers import Conv2D, MaxPooling2D, Flatten,Dense\n",
    "from keras.models import Sequential\n",
    "from keras.datasets import mnist\n",
    "from keras.utils import to_categorical"
   ]
  },
  {
   "cell_type": "code",
   "execution_count": 2,
   "metadata": {},
   "outputs": [],
   "source": [
    "(X_train, y_train), (X_test, y_test) = mnist.load_data()"
   ]
  },
  {
   "cell_type": "code",
   "execution_count": 3,
   "metadata": {},
   "outputs": [
    {
     "name": "stdout",
     "output_type": "stream",
     "text": [
      "(60000, 28, 28)\n",
      "(60000,)\n",
      "(10000, 28, 28)\n",
      "(10000,)\n"
     ]
    }
   ],
   "source": [
    "print(X_train.shape)\n",
    "print(y_train.shape)\n",
    "print(X_test.shape)\n",
    "print(y_test.shape)"
   ]
  },
  {
   "cell_type": "code",
   "execution_count": 5,
   "metadata": {},
   "outputs": [],
   "source": [
    "\n",
    "batch_size = 128\n",
    "num_classes = 10\n",
    "epochs = 3\n",
    "X_train = X_train.reshape(60000,28,28,1)\n",
    "X_test = X_test.reshape(10000,28,28,1)\n",
    "X_train = X_train.astype('float32')\n",
    "X_test = X_test.astype('float32')\n",
    "X_train /= 255.0\n",
    "X_test /= 255.0\n",
    "y_train = to_categorical(y_train,num_classes)\n",
    "y_test = to_categorical(y_test, num_classes)\n"
   ]
  },
  {
   "cell_type": "code",
   "execution_count": 6,
   "metadata": {},
   "outputs": [
    {
     "name": "stdout",
     "output_type": "stream",
     "text": [
      "(60000, 28, 28, 1)\n",
      "(60000, 10)\n",
      "(10000, 28, 28, 1)\n",
      "(10000, 10)\n"
     ]
    }
   ],
   "source": [
    "print(X_train.shape)\n",
    "print(y_train.shape)\n",
    "print(X_test.shape)\n",
    "print(y_test.shape)"
   ]
  },
  {
   "cell_type": "code",
   "execution_count": 7,
   "metadata": {},
   "outputs": [
    {
     "name": "stdout",
     "output_type": "stream",
     "text": [
      "WARNING:tensorflow:From C:\\Users\\nikki\\Anaconda3\\lib\\site-packages\\keras\\backend\\tensorflow_backend.py:4070: The name tf.nn.max_pool is deprecated. Please use tf.nn.max_pool2d instead.\n",
      "\n",
      "Model: \"sequential_1\"\n",
      "_________________________________________________________________\n",
      "Layer (type)                 Output Shape              Param #   \n",
      "=================================================================\n",
      "conv2d_1 (Conv2D)            (None, 28, 28, 32)        320       \n",
      "_________________________________________________________________\n",
      "max_pooling2d_1 (MaxPooling2 (None, 14, 14, 32)        0         \n",
      "_________________________________________________________________\n",
      "conv2d_2 (Conv2D)            (None, 14, 14, 32)        9248      \n",
      "_________________________________________________________________\n",
      "max_pooling2d_2 (MaxPooling2 (None, 7, 7, 32)          0         \n",
      "_________________________________________________________________\n",
      "flatten_1 (Flatten)          (None, 1568)              0         \n",
      "_________________________________________________________________\n",
      "dense_1 (Dense)              (None, 64)                100416    \n",
      "_________________________________________________________________\n",
      "dense_2 (Dense)              (None, 10)                650       \n",
      "=================================================================\n",
      "Total params: 110,634\n",
      "Trainable params: 110,634\n",
      "Non-trainable params: 0\n",
      "_________________________________________________________________\n",
      "None\n"
     ]
    }
   ],
   "source": [
    "cnn = Sequential()\n",
    "cnn.add(Conv2D(32, kernel_size=(3,3),input_shape=(28,28,1), padding='same', activation='relu'))\n",
    "cnn.add(MaxPooling2D())\n",
    "cnn.add(Conv2D(32, kernel_size=(3,3),padding='same', activation='relu'))\n",
    "cnn.add(MaxPooling2D())\n",
    "cnn.add(Flatten())\n",
    "cnn.add(Dense(64,activation='relu'))\n",
    "cnn.add(Dense(10,activation='softmax'))\n",
    "cnn.compile(optimizer='adam',loss='categorical_crossentropy',metrics=['accuracy'])\n",
    "print(cnn.summary())"
   ]
  },
  {
   "cell_type": "code",
   "execution_count": 8,
   "metadata": {},
   "outputs": [
    {
     "name": "stdout",
     "output_type": "stream",
     "text": [
      "WARNING:tensorflow:From C:\\Users\\nikki\\Anaconda3\\lib\\site-packages\\keras\\backend\\tensorflow_backend.py:422: The name tf.global_variables is deprecated. Please use tf.compat.v1.global_variables instead.\n",
      "\n",
      "Train on 60000 samples, validate on 60000 samples\n",
      "Epoch 1/20\n",
      "60000/60000 [==============================] - 63s 1ms/step - loss: 0.7982 - accuracy: 0.7310 - val_loss: 0.3249 - val_accuracy: 0.9011\n",
      "Epoch 2/20\n",
      "60000/60000 [==============================] - 64s 1ms/step - loss: 0.2645 - accuracy: 0.9197 - val_loss: 0.2112 - val_accuracy: 0.9349\n",
      "Epoch 3/20\n",
      "60000/60000 [==============================] - 65s 1ms/step - loss: 0.1880 - accuracy: 0.9421 - val_loss: 0.1518 - val_accuracy: 0.9531\n",
      "Epoch 4/20\n",
      "60000/60000 [==============================] - 73s 1ms/step - loss: 0.1439 - accuracy: 0.9552 - val_loss: 0.1265 - val_accuracy: 0.9607\n",
      "Epoch 5/20\n",
      "60000/60000 [==============================] - 77s 1ms/step - loss: 0.1203 - accuracy: 0.9627 - val_loss: 0.1092 - val_accuracy: 0.9661\n",
      "Epoch 6/20\n",
      "60000/60000 [==============================] - 68s 1ms/step - loss: 0.1035 - accuracy: 0.9678 - val_loss: 0.0951 - val_accuracy: 0.9704\n",
      "Epoch 7/20\n",
      "60000/60000 [==============================] - 69s 1ms/step - loss: 0.0905 - accuracy: 0.9720 - val_loss: 0.0771 - val_accuracy: 0.9768\n",
      "Epoch 8/20\n",
      "60000/60000 [==============================] - 67s 1ms/step - loss: 0.0818 - accuracy: 0.9742 - val_loss: 0.0731 - val_accuracy: 0.9774\n",
      "Epoch 9/20\n",
      "60000/60000 [==============================] - 69s 1ms/step - loss: 0.0747 - accuracy: 0.9769 - val_loss: 0.0694 - val_accuracy: 0.9788\n",
      "Epoch 10/20\n",
      "60000/60000 [==============================] - 73s 1ms/step - loss: 0.0686 - accuracy: 0.9793 - val_loss: 0.0588 - val_accuracy: 0.9819\n",
      "Epoch 11/20\n",
      "60000/60000 [==============================] - 69s 1ms/step - loss: 0.0631 - accuracy: 0.9809 - val_loss: 0.0605 - val_accuracy: 0.9806\n",
      "Epoch 12/20\n",
      "60000/60000 [==============================] - 69s 1ms/step - loss: 0.0597 - accuracy: 0.9816 - val_loss: 0.0501 - val_accuracy: 0.9847\n",
      "Epoch 13/20\n",
      "60000/60000 [==============================] - 70s 1ms/step - loss: 0.0557 - accuracy: 0.9827 - val_loss: 0.0503 - val_accuracy: 0.9841\n",
      "Epoch 14/20\n",
      "60000/60000 [==============================] - 68s 1ms/step - loss: 0.0520 - accuracy: 0.9835 - val_loss: 0.0437 - val_accuracy: 0.9866\n",
      "Epoch 15/20\n",
      "60000/60000 [==============================] - 73s 1ms/step - loss: 0.0489 - accuracy: 0.9851 - val_loss: 0.0469 - val_accuracy: 0.9851\n",
      "Epoch 16/20\n",
      "60000/60000 [==============================] - 68s 1ms/step - loss: 0.0456 - accuracy: 0.9852 - val_loss: 0.0395 - val_accuracy: 0.9880\n",
      "Epoch 17/20\n",
      "60000/60000 [==============================] - 61s 1ms/step - loss: 0.0433 - accuracy: 0.9862 - val_loss: 0.0373 - val_accuracy: 0.9883\n",
      "Epoch 18/20\n",
      "60000/60000 [==============================] - 60s 1ms/step - loss: 0.0409 - accuracy: 0.9871 - val_loss: 0.0411 - val_accuracy: 0.9864\n",
      "Epoch 19/20\n",
      "60000/60000 [==============================] - 66s 1ms/step - loss: 0.0393 - accuracy: 0.9872 - val_loss: 0.0412 - val_accuracy: 0.9868\n",
      "Epoch 20/20\n",
      "60000/60000 [==============================] - 70s 1ms/step - loss: 0.0375 - accuracy: 0.9882 - val_loss: 0.0308 - val_accuracy: 0.9899\n"
     ]
    }
   ],
   "source": [
    "history_cnn = cnn.fit(X_train,y_train,epochs=20,verbose=1,validation_data=(X_train,y_train))"
   ]
  },
  {
   "cell_type": "code",
   "execution_count": 11,
   "metadata": {},
   "outputs": [
    {
     "data": {
      "text/plain": [
       "[<matplotlib.lines.Line2D at 0x2b5b2108848>]"
      ]
     },
     "execution_count": 11,
     "metadata": {},
     "output_type": "execute_result"
    },
    {
     "data": {
      "image/png": "[encoded data removed]",
      "text/plain": [
       "<Figure size 432x288 with 1 Axes>"
      ]
     },
     "metadata": {
      "needs_background": "light"
     },
     "output_type": "display_data"
    }
   ],
   "source": [
    "import matplotlib.pyplot as plt\n",
    "\n",
    "plt.plot(history_cnn.history['accuracy'])\n",
    "plt.plot(history_cnn.history['val_accuracy'])"
   ]
  },
  {
   "cell_type": "code",
   "execution_count": 12,
   "metadata": {},
   "outputs": [
    {
     "data": {
      "text/plain": [
       "[<matplotlib.lines.Line2D at 0x2b5b5304548>]"
      ]
     },
     "execution_count": 12,
     "metadata": {},
     "output_type": "execute_result"
    },
    {
     "data": {
      "image/png": "[encoded data removed]",
      "text/plain": [
       "<Figure size 432x288 with 1 Axes>"
      ]
     },
     "metadata": {
      "needs_background": "light"
     },
     "output_type": "display_data"
    }
   ],
   "source": [
    "plt.plot(history_cnn.history['loss'])\n",
    "plt.plot(history_cnn.history['val_loss'])"
   ]
  },
  {
   "cell_type": "code",
   "execution_count": null,
   "metadata": {},
   "outputs": [],
   "source": []
  }
 ],
 "metadata": {
  "kernelspec": {
   "display_name": "Python 3",
   "language": "python",
   "name": "python3"
  },
  "language_info": {
   "codemirror_mode": {
    "name": "ipython",
    "version": 3
   },
   "file_extension": ".py",
   "mimetype": "text/x-python",
   "name": "python",
   "nbconvert_exporter": "python",
   "pygments_lexer": "ipython3",
   "version": "3.7.4"
  }
 },
 "nbformat": 4,
 "nbformat_minor": 2
}
